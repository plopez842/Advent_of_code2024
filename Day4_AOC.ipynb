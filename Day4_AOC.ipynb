{
 "cells": [
  {
   "cell_type": "markdown",
   "id": "5bcbb7eb-c218-4582-8bdf-c885b1948e33",
   "metadata": {},
   "source": [
    "# DAY4 AOC"
   ]
  },
  {
   "cell_type": "code",
   "execution_count": 4,
   "id": "fbaef541-8b60-4800-ad29-df6464e0fc62",
   "metadata": {},
   "outputs": [],
   "source": [
    "# import libraries\n",
    "import pandas as pd"
   ]
  },
  {
   "cell_type": "markdown",
   "id": "140aee69-a84a-4cca-8094-2fbe52e9288e",
   "metadata": {},
   "source": [
    "## PART 1\n",
    "\"Looks like the Chief's not here. Next!\" One of The Historians pulls out a device and pushes the only button on it. After a brief flash, you recognize the interior of the Ceres monitoring station!\n",
    "\n",
    "As the search for the Chief continues, a small Elf who lives on the station tugs on your shirt; she'd like to know if you could help her with her word search (your puzzle input). She only has to find one word: XMAS.\n",
    "\n",
    "This word search allows words to be horizontal, vertical, diagonal, written backwards, or even overlapping other words. It's a little unusual, though, as you don't merely need to find one instance of XMAS - you need to find all of them. Here are a few ways XMAS might appear, where irrelevant characters have been replaced with .:`"
   ]
  },
  {
   "cell_type": "markdown",
   "id": "4bb81767-af8c-4100-8253-be80ba5f9b33",
   "metadata": {},
   "source": [
    "### STRATEGY \n",
    "\n",
    "assumes letters surrounding letter of interest (LETTER) has indices as follows: \n",
    "\n",
    "[[1,2,3],\n",
    "\n",
    "[4,LETTER,5],\n",
    "\n",
    " [6,7,8]] \n",
    "\n",
    "so for example, letters at the top left corner, will have letters surrounding it with indices [5,7,8]\n",
    "so for example, letters at the bottom right corner, will have letters surrounding it with indices [1,2,4]"
   ]
  },
  {
   "cell_type": "code",
   "execution_count": 49,
   "id": "2f81ee89-0dd7-4bf9-b5af-4aee29b8c838",
   "metadata": {},
   "outputs": [],
   "source": [
    "# function to get indices surrounding letter\n",
    "def extract_index_surrounding_letters(row,col,total_row,total_col):\n",
    "    #since the index starts at 0, not 1\n",
    "    total_row = total_row - 1 \n",
    "    total_col = total_col - 1 \n",
    "\n",
    "    # this is for top row \n",
    "    if(row < 1):\n",
    "        if(col <1): # this is for the first column of the first row\n",
    "            index_pos = [5,7,8]\n",
    "        elif(col == total_col): # this is for the last column of the first row\n",
    "            index_pos = [4,6,7]\n",
    "        else: # this is for the other columsn of the first row\n",
    "            index_pos = [4,5,6,7,8]\n",
    "\n",
    "    # this is for the bottom row\n",
    "    elif(row == total_row):\n",
    "        if(col<1):# this is for the first column of the bottom row\n",
    "            index_pos = [2,3,5]\n",
    "        elif(col == total_col): #this is for the last column of the last row \n",
    "            index_pos = [1,2,4]\n",
    "        else: # this is for the other columns of the last row\n",
    "            index_pos = [1,2,3,4,5]\n",
    "            \n",
    "    # this is for the rows in between\n",
    "    else: \n",
    "        if(col < 1): #this is for the first column of the in between rows\n",
    "            index_pos = [2,3,5,7,8]\n",
    "        elif(col == total_col): #this is for the last column of the in between rows\n",
    "            index_pos = [1,2,4,6,7]\n",
    "        else: #this is for the other columns of the in between rows\n",
    "            index_pos = [1,2,3,4,5,6,7,8]\n",
    "\n",
    "    return(index_pos)\n",
    "\n",
    "\n",
    "# extract new row and col based on index_val (from function above) and starting col and row\n",
    "def new_col_row_based_on_index(index_val,start_row,start_col):\n",
    "    new_row_col = pd.DataFrame()\n",
    "\n",
    "    #top rows\n",
    "    if(index_val in [1,2,3]):\n",
    "        new_row = start_row - 1\n",
    "        if(index_val == 1):\n",
    "            new_col = start_col - 1\n",
    "        elif(index_val ==2):\n",
    "            new_col = start_col\n",
    "        else:\n",
    "            new_col = start_col + 1\n",
    "    #middle rows\n",
    "    elif(index_val in [4,5]):\n",
    "        new_row = start_row\n",
    "        if(index_val == 4):\n",
    "            new_col = start_col - 1\n",
    "        else:\n",
    "            new_col = start_col + 1\n",
    "    #bottom rows\n",
    "    else:\n",
    "        new_row = start_row + 1\n",
    "        if(index_val ==6):\n",
    "            new_col = start_col - 1\n",
    "        elif(index_val == 7):\n",
    "            new_col = start_col\n",
    "        else:\n",
    "            new_col = start_col + 1\n",
    "\n",
    "    new_row_col = [new_row, new_col]\n",
    "\n",
    "    return(new_row_col)\n",
    "    \n",
    "\n",
    "\n",
    "            "
   ]
  },
  {
   "cell_type": "code",
   "execution_count": 272,
   "id": "da7d7138-f392-49ee-bfcd-1eee5d7b3f32",
   "metadata": {},
   "outputs": [],
   "source": [
    "# function to read file\n",
    "def read_text_file_to_dataframe(file_path):\n",
    "    with open(file_path, 'r') as file:\n",
    "        lines = file.readlines()\n",
    "\n",
    "    # Remove whitespace and create a list of strings\n",
    "    data = [list(line) for line in lines]\n",
    "\n",
    "    # Create a dataframe\n",
    "    df = pd.DataFrame(data)\n",
    "\n",
    "    return df"
   ]
  },
  {
   "cell_type": "code",
   "execution_count": 345,
   "id": "722a9709-d9b7-491d-ab7c-cea92a11bd4b",
   "metadata": {},
   "outputs": [],
   "source": [
    "data = read_text_file_to_dataframe('input/day4.txt')"
   ]
  },
  {
   "cell_type": "code",
   "execution_count": 280,
   "id": "f7cdbd88-c4df-4938-833a-36b641aa0d84",
   "metadata": {},
   "outputs": [],
   "source": [
    "total_row = data.shape[0]\n",
    "total_col = data.shape[1]"
   ]
  },
  {
   "cell_type": "code",
   "execution_count": 308,
   "id": "c145f208-d6e0-48f8-a1cb-e14afe6a90f4",
   "metadata": {},
   "outputs": [
    {
     "name": "stdout",
     "output_type": "stream",
     "text": [
      "2603\n"
     ]
    }
   ],
   "source": [
    "total_Xmas = 0\n",
    "for temp_row in range(0,(total_row)):\n",
    "    # checking to see if and WHERE X is located in every row\n",
    "    check_row = data.iloc[[temp_row]]\n",
    "    X_col_pos = check_row.iloc[0][check_row.iloc[0] == 'X'].index.tolist()\n",
    "    if (X_col_pos != '[]'): # if there is X, moving on\n",
    "        for temp_col in X_col_pos: #this iterates through all the \"X\" in the respective row\n",
    "\n",
    "            #getting all the indices of the surrounding X\n",
    "            temp_index_surrounding_X = (extract_index_surrounding_letters(temp_row,temp_col,total_row,total_col))\n",
    "\n",
    "            #getting the letters of the surrounding X\n",
    "            surrounding_X = []\n",
    "            for temp_index in temp_index_surrounding_X:\n",
    "                temp_letter = new_col_row_based_on_index(temp_index,temp_row,temp_col)\n",
    "                surrounding_X.append(data.iloc[temp_letter[0],temp_letter[1]])\n",
    "\n",
    "            # checking to see if 'M' is around X\n",
    "            if 'M' in surrounding_X:\n",
    "                location_M_in_vect = [i for i, value in enumerate(surrounding_X) if value == 'M']\n",
    "                # iterating through all the surrounding M's\n",
    "                for temp_M_loc in location_M_in_vect: \n",
    "                    index_of_M = temp_index_surrounding_X[temp_M_loc]\n",
    "                    M_col_row_df = new_col_row_based_on_index(index_of_M, temp_row,temp_col)\n",
    "                    M_row = M_col_row_df[0]\n",
    "                    M_col = M_col_row_df[1]\n",
    "\n",
    "                    #getting the indices of all the surrouding letters of M\n",
    "                    acceptable_A_indices = extract_index_surrounding_letters(M_row,M_col,total_row,total_col)\n",
    "                    \n",
    "                    # since the word 'XMAS' must be in same direction, 'A' must have the same index position as 'M' relative to 'X'\n",
    "                    # this also accounts for 'edge' cases, if 'XM' stops at the end of the string\n",
    "                    if(index_of_M in acceptable_A_indices):\n",
    "                        A_col_row_df = new_col_row_based_on_index(index_of_M,M_row,M_col)\n",
    "                        A_row = A_col_row_df[0]\n",
    "                        A_col = A_col_row_df[1]\n",
    "                        test_A_letter = data.iloc[A_row,A_col]\n",
    "                        # testing if A is in the respective index\n",
    "                        if(test_A_letter == \"A\"):\n",
    "\n",
    "                            acceptable_S_indices = extract_index_surrounding_letters(A_row,A_col,total_row,total_col)\n",
    "                            \n",
    "                            # since the word 'XMAS' must be in same direction, 'S' must have the same index position as 'A' and 'M' relative to 'X'\n",
    "                            if(index_of_M in acceptable_S_indices):\n",
    "                                S_col_row_df = new_col_row_based_on_index(index_of_M,A_row,A_col)\n",
    "                                \n",
    "                                S_row = S_col_row_df[0]\n",
    "                                S_col = S_col_row_df[1]\n",
    "                            \n",
    "                                test_S_letter = data.iloc[S_row,S_col]\n",
    "                                if(test_S_letter == 'S' ):\n",
    "                                    # FINAL COUNT\n",
    "                                    total_Xmas = total_Xmas + 1\n",
    "                                else:\n",
    "                                    next\n",
    "                        else:\n",
    "                            next\n",
    "            else:\n",
    "                next\n",
    "\n",
    "print(total_Xmas)\n"
   ]
  },
  {
   "cell_type": "markdown",
   "id": "c4fcf5c5-a804-4dde-bcf0-deb62565509d",
   "metadata": {},
   "source": [
    "## PART 2"
   ]
  },
  {
   "cell_type": "markdown",
   "id": "58044237-0f1e-4f03-8e1d-e67e370ae3eb",
   "metadata": {},
   "source": [
    "Looking for the instructions, you flip over the word search to find that this isn't actually an XMAS puzzle; it's an X-MAS puzzle in which you're supposed to find two MAS in the shape of an X. One way to achieve that is like this:\n",
    "\n",
    "M.S\n",
    ".A.\n",
    "M.S\n",
    "\n",
    "### Strategy:\n",
    "Check that only two letters are in the indices of interest [1,3,5,8] and that there must be diffferent letters in the opposite corners [aka 1,5 and 3,8] "
   ]
  },
  {
   "cell_type": "code",
   "execution_count": 346,
   "id": "181e570f-ca8e-44af-9c35-3770b620ab80",
   "metadata": {},
   "outputs": [],
   "source": [
    "total_Xmas = 0\n",
    "must_have_indices = [1,3,6,8] \n",
    "must_be_letters = ['M','S']\n",
    "part2_sum = 0\n",
    "\n",
    "total_row = data.shape[0]\n",
    "total_col = data.shape[1]\n",
    "for temp_row in range(0,(total_row)):\n",
    "    check_row = data.iloc[[temp_row]]\n",
    "    #checks to see where or IF A's are in the row\n",
    "    A_col_pos = check_row.iloc[0][check_row.iloc[0] == 'A'].index.tolist()\n",
    "    if (A_col_pos != '[]'):\n",
    "        #this iterates through all the \"A\" in the respective row\n",
    "        for temp_col in A_col_pos: \n",
    "            temp_index_surrounding_A = (extract_index_surrounding_letters(temp_row,temp_col,total_row,total_col))\n",
    "            # checking to see if the must have indices (top left, top right, bottom left, bottom right' AKA [1,3,6,8] are there\n",
    "            if(all(item in temp_index_surrounding_A for item in must_have_indices)):\n",
    "                test_letters_A = []\n",
    "                # iterating through all the \n",
    "                for temp_index in must_have_indices :\n",
    "                    temp_letter = new_col_row_based_on_index(temp_index,temp_row,temp_col)\n",
    "                    test_letters_A.append(data.iloc[temp_letter[0],temp_letter[1]])\n",
    "                    #checking that 'M' and 'S' are the only letters in the corners surrounding A\n",
    "                if(all(item in must_be_letters for item in test_letters_A)):\n",
    "                    #making sure 'M' and 'S' are in opposite corners\n",
    "                    if(test_letters_A[0]!=test_letters_A[3] and test_letters_A[1]!=test_letters_A[2]):\n",
    "                        # answer\n",
    "                        part2_sum = part2_sum + 1\n",
    "                        \n",
    "\n",
    "                    \n"
   ]
  },
  {
   "cell_type": "code",
   "execution_count": 347,
   "id": "1fe20ccc-c472-4aa8-9d9f-123382c0e9f7",
   "metadata": {},
   "outputs": [
    {
     "data": {
      "text/plain": [
       "1965"
      ]
     },
     "execution_count": 347,
     "metadata": {},
     "output_type": "execute_result"
    }
   ],
   "source": [
    "part2_sum"
   ]
  }
 ],
 "metadata": {
  "kernelspec": {
   "display_name": "Python (spapros)",
   "language": "python",
   "name": "spapros"
  },
  "language_info": {
   "codemirror_mode": {
    "name": "ipython",
    "version": 3
   },
   "file_extension": ".py",
   "mimetype": "text/x-python",
   "name": "python",
   "nbconvert_exporter": "python",
   "pygments_lexer": "ipython3",
   "version": "3.9.20"
  }
 },
 "nbformat": 4,
 "nbformat_minor": 5
}
