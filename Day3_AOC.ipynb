{
 "cells": [
  {
   "cell_type": "markdown",
   "id": "c26899be-116c-49da-aae9-ecd00ca843fe",
   "metadata": {},
   "source": [
    "# Day 3 Advent of Code"
   ]
  },
  {
   "cell_type": "code",
   "execution_count": 25,
   "id": "fb2f8ece-d018-4ca3-bdc6-70ed39bd8c3d",
   "metadata": {},
   "outputs": [],
   "source": [
    "import pandas as pd\n",
    "import re"
   ]
  },
  {
   "cell_type": "markdown",
   "id": "2b2152b9-ff8c-4152-b55d-9d59968ad490",
   "metadata": {},
   "source": [
    "## PROMPT 1\n",
    "Only the four highlighted sections are real mul instructions. Adding up the result of each instruction produces 161 (2*4 + 5*5 + 11*8 + 8*5).\n",
    "\n",
    "Scan the corrupted memory for uncorrupted mul instructions. What do you get if you add up all of the results of the multiplications?"
   ]
  },
  {
   "cell_type": "code",
   "execution_count": 78,
   "id": "9360f9e1-19f7-4ea6-bebd-7b4f72f163fb",
   "metadata": {},
   "outputs": [],
   "source": [
    "## LOAD FILE\n",
    "## load text\n",
    "with open('input/day_3.txt','r') as file:\n",
    "    day3_test = file.read()"
   ]
  },
  {
   "cell_type": "markdown",
   "id": "cd52fa29-3e83-4cee-814a-505aa2c4cbf0",
   "metadata": {},
   "source": [
    "## Setup pattern\n",
    "going to first find when mul(INT,INT) appears and save it in its own vector (aka instances_pass)"
   ]
  },
  {
   "cell_type": "code",
   "execution_count": 79,
   "id": "2bb661fb-3e72-4721-8d14-dbbef71223fd",
   "metadata": {},
   "outputs": [],
   "source": [
    "split_pattern=r\"mul\\(\\d+,\\d+\\)\"\n",
    "instances_pass = re.findall(split_pattern, day3_test)"
   ]
  },
  {
   "cell_type": "markdown",
   "id": "28a36e0c-bde2-45b9-ae96-32463a853e7d",
   "metadata": {},
   "source": [
    "### multiply integers\n",
    "now going through all the items of instances_pass, extracting the integers, and then multiplying them with one another"
   ]
  },
  {
   "cell_type": "code",
   "execution_count": 81,
   "id": "5e2605fa-e704-48e6-a3bd-fcfd1c5af165",
   "metadata": {},
   "outputs": [
    {
     "name": "stdout",
     "output_type": "stream",
     "text": [
      "164730528\n"
     ]
    }
   ],
   "source": [
    "split_pattern_rd2=r\"\\d+\"\n",
    "sum=0\n",
    "for item in instances_pass:\n",
    "    split_word = re.findall(split_pattern_rd2,item)\n",
    "    int_list = [int(x) for x in split_word]\n",
    "\n",
    "    sum=sum+(int_list[0]*int_list[1])\n",
    "    #print(int_list)\n",
    "print(sum)"
   ]
  },
  {
   "cell_type": "markdown",
   "id": "6902cb41-67ca-4fbb-b0ed-ad3eacf315fb",
   "metadata": {},
   "source": [
    "# PART 2\n",
    "The do() instruction enables future mul instructions.\n",
    "The don't() instruction disables future mul instructions."
   ]
  },
  {
   "cell_type": "code",
   "execution_count": 203,
   "id": "ba039120-a7c5-4418-9251-7d8639368847",
   "metadata": {},
   "outputs": [],
   "source": [
    "with open('input/day_3.txt','r') as file:\n",
    "    day3_test = file.read()"
   ]
  },
  {
   "cell_type": "code",
   "execution_count": 227,
   "id": "c03ba753-69f9-4ba5-81cf-d8251bdaee8c",
   "metadata": {},
   "outputs": [],
   "source": [
    "iter_split = 0\n",
    "exit_val=0\n",
    "new_split = day3_test\n",
    "new_day3 = \"\"\n",
    "#new_split = str(new_split)\n",
    "while exit_val==0:\n",
    "    first_split = new_split.split(\"don't()\",maxsplit=1)\n",
    "\n",
    "    new_day3 = new_day3 + first_split[0]\n",
    "\n",
    "    #check if do is in next string\n",
    "    if(\"do()\" in first_split[1]):\n",
    "        second_split=first_split[1].split(\"do()\",maxsplit=1)\n",
    "        new_split = second_split[1]\n",
    "        #print(new_split)\n",
    "        #print(\"LINE\")\n",
    "    else:\n",
    "        exit_val=1\n"
   ]
  },
  {
   "cell_type": "code",
   "execution_count": 229,
   "id": "afba43e8-4be5-4215-9df9-3618acdf1473",
   "metadata": {},
   "outputs": [],
   "source": [
    "# Repeat part 1 but with new_pattern iter\n",
    "split_pattern=r\"mul\\(\\d+,\\d+\\)\"\n",
    "instances_pass_RD2 = re.findall(split_pattern, new_day3)"
   ]
  },
  {
   "cell_type": "code",
   "execution_count": 230,
   "id": "38c4ae38-8184-40a2-94df-3e45811d76c0",
   "metadata": {},
   "outputs": [
    {
     "name": "stdout",
     "output_type": "stream",
     "text": [
      "70478672\n"
     ]
    }
   ],
   "source": [
    "split_pattern_rd2=r\"\\d+\"\n",
    "sum=0\n",
    "for item in instances_pass_RD2:\n",
    "    split_word = re.findall(split_pattern_rd2,item)\n",
    "    int_list = [int(x) for x in split_word]\n",
    "\n",
    "    sum=sum+(int_list[0]*int_list[1])\n",
    "    #print(int_list)\n",
    "print(sum)"
   ]
  },
  {
   "cell_type": "code",
   "execution_count": null,
   "id": "44c58bfd-4809-4cdf-93f5-eaae5aaa4f57",
   "metadata": {},
   "outputs": [],
   "source": []
  }
 ],
 "metadata": {
  "kernelspec": {
   "display_name": "Python [conda env:spapros]",
   "language": "python",
   "name": "conda-env-spapros-py"
  },
  "language_info": {
   "codemirror_mode": {
    "name": "ipython",
    "version": 3
   },
   "file_extension": ".py",
   "mimetype": "text/x-python",
   "name": "python",
   "nbconvert_exporter": "python",
   "pygments_lexer": "ipython3",
   "version": "3.9.20"
  }
 },
 "nbformat": 4,
 "nbformat_minor": 5
}
