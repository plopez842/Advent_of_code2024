{
 "cells": [
  {
   "cell_type": "code",
   "execution_count": 6,
   "id": "b02293e6",
   "metadata": {},
   "outputs": [],
   "source": [
    "import os \n",
    "import pandas as pd"
   ]
  },
  {
   "cell_type": "markdown",
   "id": "9840b609",
   "metadata": {},
   "source": [
    "# PART 1"
   ]
  },
  {
   "cell_type": "markdown",
   "id": "94f91bac",
   "metadata": {},
   "source": [
    "## first going to load the files"
   ]
  },
  {
   "cell_type": "code",
   "execution_count": 63,
   "id": "8076e2ad",
   "metadata": {},
   "outputs": [
    {
     "name": "stdout",
     "output_type": "stream",
     "text": [
      "         0      1\n",
      "0    77221  93653\n",
      "1    61169  27995\n",
      "2    49546  69782\n",
      "3    11688  41563\n",
      "4    15820  48282\n",
      "..     ...    ...\n",
      "995  73919  23537\n",
      "996  62591  16739\n",
      "997  53735  79935\n",
      "998  14454  69804\n",
      "999  19976  46609\n",
      "\n",
      "[1000 rows x 2 columns]\n"
     ]
    }
   ],
   "source": [
    "with open('input/day_1.txt', 'r') as file:\n",
    "    day1_input = file.read()\n",
    "    \n",
    "# split into lines\n",
    "lines = day1_input.split('\\n')\n",
    "\n",
    "data = [line.split() for line in lines]\n",
    "\n",
    "df_day1 = pd.DataFrame(data)\n",
    "print(df_day1)"
   ]
  },
  {
   "cell_type": "markdown",
   "id": "650962da",
   "metadata": {},
   "source": [
    "### Make sure to convert to numeric"
   ]
  },
  {
   "cell_type": "code",
   "execution_count": 83,
   "id": "0f0c557e",
   "metadata": {},
   "outputs": [],
   "source": [
    "df_day1 = df_day1.apply(pd.to_numeric)"
   ]
  },
  {
   "cell_type": "markdown",
   "id": "73436d8f",
   "metadata": {},
   "source": [
    "## SORT\n",
    "sort the files from lowest to highest"
   ]
  },
  {
   "cell_type": "code",
   "execution_count": 75,
   "id": "4557a99c",
   "metadata": {},
   "outputs": [],
   "source": [
    "col1 = df_day1[0].sort_values().reset_index(drop=True)\n",
    "col2 = df_day1[1].sort_values().reset_index(drop=True)"
   ]
  },
  {
   "cell_type": "markdown",
   "id": "3dae6e87",
   "metadata": {},
   "source": [
    "## Take difference\n",
    "now take difference between lowest and highest values"
   ]
  },
  {
   "cell_type": "code",
   "execution_count": 100,
   "id": "4682512d",
   "metadata": {},
   "outputs": [],
   "source": [
    "absolute_differences = []\n",
    "for i in range(0,len(col1)): \n",
    "    diff = abs(col1[i] - col2[i])\n",
    "    absolute_differences.append(diff)"
   ]
  },
  {
   "cell_type": "code",
   "execution_count": 101,
   "id": "f9d6f260",
   "metadata": {},
   "outputs": [
    {
     "name": "stdout",
     "output_type": "stream",
     "text": [
      "1580061\n"
     ]
    }
   ],
   "source": [
    "total_sum = sum(absolute_differences)\n",
    "print(total_sum)"
   ]
  },
  {
   "cell_type": "markdown",
   "id": "781656eb",
   "metadata": {},
   "source": [
    "# PART II\n",
    "now detemrine how many times an element of column A appears in Column B, multiple by the # of instances "
   ]
  },
  {
   "cell_type": "code",
   "execution_count": 108,
   "id": "775abaf7",
   "metadata": {},
   "outputs": [],
   "source": [
    "results = {}\n",
    "\n",
    "for val in df_day1[0]:\n",
    "    in_col2 = (df_day1[1]== val).sum()\n",
    "    product = val * in_col2\n",
    "    \n",
    "    # Store the result\n",
    "    results[val] = product"
   ]
  },
  {
   "cell_type": "code",
   "execution_count": 110,
   "id": "e660d10e",
   "metadata": {},
   "outputs": [
    {
     "name": "stdout",
     "output_type": "stream",
     "text": [
      "23046913\n"
     ]
    }
   ],
   "source": [
    "total_sum = sum(results.values())\n",
    "print(total_sum)"
   ]
  }
 ],
 "metadata": {
  "kernelspec": {
   "display_name": "Python (spapros)",
   "language": "python",
   "name": "spapros"
  },
  "language_info": {
   "codemirror_mode": {
    "name": "ipython",
    "version": 3
   },
   "file_extension": ".py",
   "mimetype": "text/x-python",
   "name": "python",
   "nbconvert_exporter": "python",
   "pygments_lexer": "ipython3",
   "version": "3.9.20"
  }
 },
 "nbformat": 4,
 "nbformat_minor": 5
}
